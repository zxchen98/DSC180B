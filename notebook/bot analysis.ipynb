{
 "cells": [
  {
   "cell_type": "code",
   "execution_count": 15,
   "metadata": {},
   "outputs": [],
   "source": [
    "import pandas as pd\n",
    "import math"
   ]
  },
  {
   "cell_type": "code",
   "execution_count": 79,
   "metadata": {},
   "outputs": [],
   "source": [
    "df_s=pd.read_csv('with_sentiment.csv')\n",
    "df_m=pd.read_csv('M_sen_views.csv')"
   ]
  },
  {
   "cell_type": "code",
   "execution_count": 117,
   "metadata": {},
   "outputs": [],
   "source": [
    "a=df_s.groupby('title')[['bot']].count()\n",
    "b=df_s.groupby('title')[['bot']].sum()"
   ]
  },
  {
   "cell_type": "code",
   "execution_count": 118,
   "metadata": {},
   "outputs": [],
   "source": [
    "df_1=b/a"
   ]
  },
  {
   "cell_type": "code",
   "execution_count": 119,
   "metadata": {},
   "outputs": [],
   "source": [
    "df_1['new_score']=df_1['bot'].apply(lambda x: -math.log(x+1)+1)"
   ]
  },
  {
   "cell_type": "code",
   "execution_count": 120,
   "metadata": {},
   "outputs": [],
   "source": [
    "df_f=df_1.merge(df_m,on='title')"
   ]
  },
  {
   "cell_type": "code",
   "execution_count": 121,
   "metadata": {},
   "outputs": [],
   "source": [
    "df_ff=df_f[df_f['M']>0]"
   ]
  },
  {
   "cell_type": "code",
   "execution_count": 122,
   "metadata": {},
   "outputs": [],
   "source": [
    "df_bot=df_s[df_s['bot']]\n"
   ]
  },
  {
   "cell_type": "code",
   "execution_count": null,
   "metadata": {},
   "outputs": [],
   "source": []
  },
  {
   "cell_type": "code",
   "execution_count": 114,
   "metadata": {},
   "outputs": [
    {
     "data": {
      "text/html": [
       "<div>\n",
       "<style scoped>\n",
       "    .dataframe tbody tr th:only-of-type {\n",
       "        vertical-align: middle;\n",
       "    }\n",
       "\n",
       "    .dataframe tbody tr th {\n",
       "        vertical-align: top;\n",
       "    }\n",
       "\n",
       "    .dataframe thead th {\n",
       "        text-align: right;\n",
       "    }\n",
       "</style>\n",
       "<table border=\"1\" class=\"dataframe\">\n",
       "  <thead>\n",
       "    <tr style=\"text-align: right;\">\n",
       "      <th></th>\n",
       "      <th>Unnamed: 0</th>\n",
       "      <th>date</th>\n",
       "      <th>revert</th>\n",
       "      <th>edit</th>\n",
       "      <th>commentor</th>\n",
       "      <th>title</th>\n",
       "      <th>comment</th>\n",
       "      <th>Revision Time</th>\n",
       "      <th>views</th>\n",
       "      <th>sentiment_score</th>\n",
       "      <th>bot</th>\n",
       "    </tr>\n",
       "  </thead>\n",
       "  <tbody>\n",
       "    <tr>\n",
       "      <th>1</th>\n",
       "      <td>1</td>\n",
       "      <td>2009-12-27 18:23:24</td>\n",
       "      <td>0.0</td>\n",
       "      <td>5.0</td>\n",
       "      <td>SmackBot</td>\n",
       "      <td>Peasenhall_Murder</td>\n",
       "      <td>/* Parody usage */Delink dates ([[WP:MOSUNLINK...</td>\n",
       "      <td>243</td>\n",
       "      <td>41821.0</td>\n",
       "      <td>0.0</td>\n",
       "      <td>True</td>\n",
       "    </tr>\n",
       "    <tr>\n",
       "      <th>5</th>\n",
       "      <td>5</td>\n",
       "      <td>2008-12-29 23:45:27</td>\n",
       "      <td>0.0</td>\n",
       "      <td>2.0</td>\n",
       "      <td>Lightbot</td>\n",
       "      <td>Kannambra-I</td>\n",
       "      <td>Units/dates/other</td>\n",
       "      <td>69</td>\n",
       "      <td>4531.0</td>\n",
       "      <td>0.0</td>\n",
       "      <td>True</td>\n",
       "    </tr>\n",
       "    <tr>\n",
       "      <th>6</th>\n",
       "      <td>6</td>\n",
       "      <td>2009-12-23 19:53:02</td>\n",
       "      <td>0.0</td>\n",
       "      <td>69.0</td>\n",
       "      <td>SmackBot</td>\n",
       "      <td>Princess_DisneyMania</td>\n",
       "      <td>Delink dates ([[WP:MOSUNLINKDATES]]) using [[P...</td>\n",
       "      <td>119</td>\n",
       "      <td>20524.0</td>\n",
       "      <td>0.0</td>\n",
       "      <td>True</td>\n",
       "    </tr>\n",
       "    <tr>\n",
       "      <th>7</th>\n",
       "      <td>7</td>\n",
       "      <td>2009-12-23 20:43:25</td>\n",
       "      <td>0.0</td>\n",
       "      <td>8.0</td>\n",
       "      <td>SmackBot</td>\n",
       "      <td>Rare_&amp;_Unreleased_Recordings_from_the_Golden_R...</td>\n",
       "      <td>Delink dates ([[WP:MOSUNLINKDATES]]) using [[P...</td>\n",
       "      <td>270</td>\n",
       "      <td>25698.0</td>\n",
       "      <td>0.0</td>\n",
       "      <td>True</td>\n",
       "    </tr>\n",
       "    <tr>\n",
       "      <th>8</th>\n",
       "      <td>8</td>\n",
       "      <td>2008-09-18 01:00:38</td>\n",
       "      <td>0.0</td>\n",
       "      <td>4.0</td>\n",
       "      <td>Lightbot</td>\n",
       "      <td>Adolphe-Simon_Neboux</td>\n",
       "      <td>Units/dates/other</td>\n",
       "      <td>52</td>\n",
       "      <td>6621.0</td>\n",
       "      <td>0.0</td>\n",
       "      <td>True</td>\n",
       "    </tr>\n",
       "    <tr>\n",
       "      <th>...</th>\n",
       "      <td>...</td>\n",
       "      <td>...</td>\n",
       "      <td>...</td>\n",
       "      <td>...</td>\n",
       "      <td>...</td>\n",
       "      <td>...</td>\n",
       "      <td>...</td>\n",
       "      <td>...</td>\n",
       "      <td>...</td>\n",
       "      <td>...</td>\n",
       "      <td>...</td>\n",
       "    </tr>\n",
       "    <tr>\n",
       "      <th>15100</th>\n",
       "      <td>15100</td>\n",
       "      <td>2009-12-27 18:02:49</td>\n",
       "      <td>0.0</td>\n",
       "      <td>89.0</td>\n",
       "      <td>SmackBot</td>\n",
       "      <td>Joe_Randa</td>\n",
       "      <td>Delink dates ([[WP:MOSUNLINKDATES]]) using [[P...</td>\n",
       "      <td>38</td>\n",
       "      <td>48396.0</td>\n",
       "      <td>0.0</td>\n",
       "      <td>True</td>\n",
       "    </tr>\n",
       "    <tr>\n",
       "      <th>15101</th>\n",
       "      <td>15101</td>\n",
       "      <td>2009-12-24 00:07:04</td>\n",
       "      <td>0.0</td>\n",
       "      <td>1298.0</td>\n",
       "      <td>SmackBot</td>\n",
       "      <td>hai_Airways_International</td>\n",
       "      <td>Delink dates ([[WP:MOSUNLINKDATES]]) using [[P...</td>\n",
       "      <td>273</td>\n",
       "      <td>NaN</td>\n",
       "      <td>0.0</td>\n",
       "      <td>True</td>\n",
       "    </tr>\n",
       "    <tr>\n",
       "      <th>15107</th>\n",
       "      <td>15107</td>\n",
       "      <td>2009-12-24 00:07:04</td>\n",
       "      <td>0.0</td>\n",
       "      <td>3705.0</td>\n",
       "      <td>SmackBot</td>\n",
       "      <td>he_White_Stripes</td>\n",
       "      <td>Delink dates ([[WP:MOSUNLINKDATES]]) using [[P...</td>\n",
       "      <td>273</td>\n",
       "      <td>NaN</td>\n",
       "      <td>0.0</td>\n",
       "      <td>True</td>\n",
       "    </tr>\n",
       "    <tr>\n",
       "      <th>15109</th>\n",
       "      <td>15109</td>\n",
       "      <td>2008-09-18 14:40:49</td>\n",
       "      <td>0.0</td>\n",
       "      <td>78.0</td>\n",
       "      <td>Lightbot</td>\n",
       "      <td>Edgar_of_Scotland</td>\n",
       "      <td>Units/dates/other</td>\n",
       "      <td>61</td>\n",
       "      <td>42337.0</td>\n",
       "      <td>0.0</td>\n",
       "      <td>True</td>\n",
       "    </tr>\n",
       "    <tr>\n",
       "      <th>15113</th>\n",
       "      <td>15113</td>\n",
       "      <td>2009-12-17 07:40:53</td>\n",
       "      <td>0.0</td>\n",
       "      <td>22.0</td>\n",
       "      <td>SmackBot</td>\n",
       "      <td>Nisien</td>\n",
       "      <td>remove Erik9bot category,outdated, tag and gen...</td>\n",
       "      <td>209</td>\n",
       "      <td>20796.0</td>\n",
       "      <td>0.0</td>\n",
       "      <td>True</td>\n",
       "    </tr>\n",
       "  </tbody>\n",
       "</table>\n",
       "<p>171 rows × 11 columns</p>\n",
       "</div>"
      ],
      "text/plain": [
       "       Unnamed: 0                 date  revert    edit commentor  \\\n",
       "1               1  2009-12-27 18:23:24     0.0     5.0  SmackBot   \n",
       "5               5  2008-12-29 23:45:27     0.0     2.0  Lightbot   \n",
       "6               6  2009-12-23 19:53:02     0.0    69.0  SmackBot   \n",
       "7               7  2009-12-23 20:43:25     0.0     8.0  SmackBot   \n",
       "8               8  2008-09-18 01:00:38     0.0     4.0  Lightbot   \n",
       "...           ...                  ...     ...     ...       ...   \n",
       "15100       15100  2009-12-27 18:02:49     0.0    89.0  SmackBot   \n",
       "15101       15101  2009-12-24 00:07:04     0.0  1298.0  SmackBot   \n",
       "15107       15107  2009-12-24 00:07:04     0.0  3705.0  SmackBot   \n",
       "15109       15109  2008-09-18 14:40:49     0.0    78.0  Lightbot   \n",
       "15113       15113  2009-12-17 07:40:53     0.0    22.0  SmackBot   \n",
       "\n",
       "                                                   title  \\\n",
       "1                                      Peasenhall_Murder   \n",
       "5                                            Kannambra-I   \n",
       "6                                   Princess_DisneyMania   \n",
       "7      Rare_&_Unreleased_Recordings_from_the_Golden_R...   \n",
       "8                                   Adolphe-Simon_Neboux   \n",
       "...                                                  ...   \n",
       "15100                                          Joe_Randa   \n",
       "15101                          hai_Airways_International   \n",
       "15107                                   he_White_Stripes   \n",
       "15109                                  Edgar_of_Scotland   \n",
       "15113                                             Nisien   \n",
       "\n",
       "                                                 comment  Revision Time  \\\n",
       "1      /* Parody usage */Delink dates ([[WP:MOSUNLINK...            243   \n",
       "5                                      Units/dates/other             69   \n",
       "6      Delink dates ([[WP:MOSUNLINKDATES]]) using [[P...            119   \n",
       "7      Delink dates ([[WP:MOSUNLINKDATES]]) using [[P...            270   \n",
       "8                                      Units/dates/other             52   \n",
       "...                                                  ...            ...   \n",
       "15100  Delink dates ([[WP:MOSUNLINKDATES]]) using [[P...             38   \n",
       "15101  Delink dates ([[WP:MOSUNLINKDATES]]) using [[P...            273   \n",
       "15107  Delink dates ([[WP:MOSUNLINKDATES]]) using [[P...            273   \n",
       "15109                                  Units/dates/other             61   \n",
       "15113  remove Erik9bot category,outdated, tag and gen...            209   \n",
       "\n",
       "         views  sentiment_score   bot  \n",
       "1      41821.0              0.0  True  \n",
       "5       4531.0              0.0  True  \n",
       "6      20524.0              0.0  True  \n",
       "7      25698.0              0.0  True  \n",
       "8       6621.0              0.0  True  \n",
       "...        ...              ...   ...  \n",
       "15100  48396.0              0.0  True  \n",
       "15101      NaN              0.0  True  \n",
       "15107      NaN              0.0  True  \n",
       "15109  42337.0              0.0  True  \n",
       "15113  20796.0              0.0  True  \n",
       "\n",
       "[171 rows x 11 columns]"
      ]
     },
     "execution_count": 114,
     "metadata": {},
     "output_type": "execute_result"
    }
   ],
   "source": [
    "idex=df_bot[df_bot['comment'].str.contains('date').fillna(False)].index\n",
    "df_bot[df_bot['comment'].str.contains('date').fillna(False)]"
   ]
  },
  {
   "cell_type": "code",
   "execution_count": 116,
   "metadata": {},
   "outputs": [],
   "source": [
    "df_s =df_s.drop(idex)"
   ]
  },
  {
   "cell_type": "code",
   "execution_count": 123,
   "metadata": {},
   "outputs": [
    {
     "data": {
      "text/plain": [
       "<matplotlib.axes._subplots.AxesSubplot at 0x274219e8370>"
      ]
     },
     "execution_count": 123,
     "metadata": {},
     "output_type": "execute_result"
    },
    {
     "data": {
      "image/png": "[encoded data removed]",
      "text/plain": [
       "<Figure size 432x288 with 1 Axes>"
      ]
     },
     "metadata": {
      "needs_background": "light"
     },
     "output_type": "display_data"
    }
   ],
   "source": [
    "df_ff[df_ff['M']<10000].plot(x='new_score',y='M',kind='scatter')"
   ]
  },
  {
   "cell_type": "code",
   "execution_count": null,
   "metadata": {},
   "outputs": [],
   "source": []
  }
 ],
 "metadata": {
  "kernelspec": {
   "display_name": "Python 3",
   "language": "python",
   "name": "python3"
  },
  "language_info": {
   "codemirror_mode": {
    "name": "ipython",
    "version": 3
   },
   "file_extension": ".py",
   "mimetype": "text/x-python",
   "name": "python",
   "nbconvert_exporter": "python",
   "pygments_lexer": "ipython3",
   "version": "3.8.3"
  }
 },
 "nbformat": 4,
 "nbformat_minor": 4
}
