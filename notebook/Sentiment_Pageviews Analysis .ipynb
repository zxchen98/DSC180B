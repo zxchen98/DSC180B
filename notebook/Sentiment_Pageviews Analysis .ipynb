{
 "cells": [
  {
   "cell_type": "markdown",
   "metadata": {},
   "source": [
    "### Sentiment score VS M "
   ]
  },
  {
   "cell_type": "code",
   "execution_count": 59,
   "metadata": {},
   "outputs": [
    {
     "name": "stderr",
     "output_type": "stream",
     "text": [
      "Skipping line 5597: '\t' expected after '\"'\n",
      "Skipping line 12105: '\t' expected after '\"'\n",
      "Skipping line 51466: '\t' expected after '\"'\n",
      "Skipping line 81172: '\t' expected after '\"'\n",
      "Skipping line 112911: '\t' expected after '\"'\n",
      "Skipping line 122961: '\t' expected after '\"'\n",
      "Skipping line 151501: '\t' expected after '\"'\n",
      "Skipping line 169820: '\t' expected after '\"'\n",
      "Skipping line 169822: '\t' expected after '\"'\n",
      "Skipping line 199357: '\t' expected after '\"'\n",
      "Skipping line 199848: '\t' expected after '\"'\n",
      "Skipping line 200898: '\t' expected after '\"'\n",
      "Skipping line 205986: '\t' expected after '\"'\n",
      "Skipping line 206651: '\t' expected after '\"'\n",
      "Skipping line 206656: '\t' expected after '\"'\n",
      "Skipping line 206967: '\t' expected after '\"'\n",
      "Skipping line 210763: '\t' expected after '\"'\n",
      "Skipping line 230455: '\t' expected after '\"'\n",
      "Skipping line 231518: '\t' expected after '\"'\n",
      "Skipping line 231519: '\t' expected after '\"'\n",
      "Skipping line 231520: '\t' expected after '\"'\n",
      "Skipping line 231521: '\t' expected after '\"'\n",
      "Skipping line 231522: '\t' expected after '\"'\n",
      "Skipping line 231523: '\t' expected after '\"'\n",
      "Skipping line 231524: '\t' expected after '\"'\n",
      "Skipping line 231526: '\t' expected after '\"'\n",
      "Skipping line 231528: '\t' expected after '\"'\n",
      "Skipping line 231529: '\t' expected after '\"'\n",
      "Skipping line 231531: '\t' expected after '\"'\n",
      "Skipping line 272501: '\t' expected after '\"'\n",
      "Skipping line 280565: '\t' expected after '\"'\n",
      "Skipping line 280566: '\t' expected after '\"'\n",
      "Skipping line 280567: '\t' expected after '\"'\n",
      "Skipping line 280571: '\t' expected after '\"'\n",
      "Skipping line 280573: '\t' expected after '\"'\n",
      "Skipping line 377934: '\t' expected after '\"'\n",
      "Skipping line 377970: '\t' expected after '\"'\n",
      "Skipping line 385856: '\t' expected after '\"'\n",
      "Skipping line 394946: '\t' expected after '\"'\n",
      "Skipping line 399483: '\t' expected after '\"'\n",
      "Skipping line 429156: '\t' expected after '\"'\n",
      "Skipping line 436862: '\t' expected after '\"'\n",
      "Skipping line 436864: '\t' expected after '\"'\n",
      "Skipping line 436865: '\t' expected after '\"'\n",
      "Skipping line 447663: '\t' expected after '\"'\n",
      "Skipping line 468887: '\t' expected after '\"'\n",
      "Skipping line 483911: '\t' expected after '\"'\n",
      "Skipping line 498360: '\t' expected after '\"'\n",
      "Skipping line 498606: '\t' expected after '\"'\n",
      "Skipping line 498607: '\t' expected after '\"'\n",
      "Skipping line 498608: '\t' expected after '\"'\n",
      "Skipping line 498609: '\t' expected after '\"'\n",
      "Skipping line 498610: '\t' expected after '\"'\n",
      "Skipping line 498612: '\t' expected after '\"'\n",
      "Skipping line 521080: '\t' expected after '\"'\n",
      "Skipping line 522600: '\t' expected after '\"'\n",
      "Skipping line 525278: '\t' expected after '\"'\n",
      "Skipping line 527490: '\t' expected after '\"'\n",
      "Skipping line 540212: '\t' expected after '\"'\n",
      "Skipping line 564533: '\t' expected after '\"'\n",
      "Skipping line 568607: '\t' expected after '\"'\n",
      "Skipping line 589347: '\t' expected after '\"'\n",
      "Skipping line 604760: '\t' expected after '\"'\n",
      "Skipping line 666813: '\t' expected after '\"'\n",
      "Skipping line 671235: '\t' expected after '\"'\n",
      "Skipping line 673249: '\t' expected after '\"'\n",
      "Skipping line 678889: '\t' expected after '\"'\n",
      "Skipping line 682843: '\t' expected after '\"'\n",
      "Skipping line 685704: '\t' expected after '\"'\n",
      "Skipping line 691089: '\t' expected after '\"'\n",
      "Skipping line 695573: '\t' expected after '\"'\n",
      "Skipping line 695575: '\t' expected after '\"'\n",
      "Skipping line 699929: '\t' expected after '\"'\n",
      "Skipping line 707335: '\t' expected after '\"'\n",
      "Skipping line 723820: '\t' expected after '\"'\n",
      "Skipping line 802428: '\t' expected after '\"'\n",
      "Skipping line 812247: '\t' expected after '\"'\n",
      "Skipping line 820029: '\t' expected after '\"'\n",
      "Skipping line 826694: '\t' expected after '\"'\n",
      "Skipping line 826695: '\t' expected after '\"'\n",
      "Skipping line 846870: '\t' expected after '\"'\n",
      "Skipping line 849962: '\t' expected after '\"'\n",
      "Skipping line 913948: '\t' expected after '\"'\n",
      "Skipping line 924112: '\t' expected after '\"'\n",
      "Skipping line 984874: '\t' expected after '\"'\n",
      "Skipping line 1007555: '\t' expected after '\"'\n",
      "Skipping line 1021893: '\t' expected after '\"'\n",
      "Skipping line 1060783: '\t' expected after '\"'\n",
      "Skipping line 1092113: '\t' expected after '\"'\n",
      "Skipping line 1093221: '\t' expected after '\"'\n",
      "Skipping line 1109250: '\t' expected after '\"'\n",
      "Skipping line 1109254: '\t' expected after '\"'\n",
      "Skipping line 1109255: '\t' expected after '\"'\n",
      "Skipping line 1121658: '\t' expected after '\"'\n",
      "Skipping line 1131767: '\t' expected after '\"'\n",
      "Skipping line 1155822: '\t' expected after '\"'\n",
      "Skipping line 1160599: '\t' expected after '\"'\n",
      "Skipping line 1166842: '\t' expected after '\"'\n",
      "Skipping line 1169944: '\t' expected after '\"'\n",
      "Skipping line 1253236: '\t' expected after '\"'\n",
      "Skipping line 1272826: '\t' expected after '\"'\n",
      "Skipping line 1316329: '\t' expected after '\"'\n",
      "Skipping line 1323434: '\t' expected after '\"'\n",
      "Skipping line 1323435: '\t' expected after '\"'\n",
      "Skipping line 1323436: '\t' expected after '\"'\n",
      "Skipping line 1323437: '\t' expected after '\"'\n",
      "Skipping line 1323438: '\t' expected after '\"'\n",
      "Skipping line 1348951: '\t' expected after '\"'\n",
      "Skipping line 1380236: '\t' expected after '\"'\n",
      "Skipping line 1417606: '\t' expected after '\"'\n",
      "Skipping line 1420782: '\t' expected after '\"'\n",
      "Skipping line 1425171: '\t' expected after '\"'\n",
      "Skipping line 1425172: '\t' expected after '\"'\n",
      "Skipping line 1425552: '\t' expected after '\"'\n",
      "Skipping line 1456612: '\t' expected after '\"'\n",
      "Skipping line 1456613: '\t' expected after '\"'\n",
      "Skipping line 1469713: '\t' expected after '\"'\n",
      "Skipping line 1474155: '\t' expected after '\"'\n",
      "Skipping line 1475872: '\t' expected after '\"'\n",
      "Skipping line 1483188: '\t' expected after '\"'\n",
      "Skipping line 1484059: '\t' expected after '\"'\n",
      "Skipping line 1552096: '\t' expected after '\"'\n",
      "Skipping line 1585673: '\t' expected after '\"'\n",
      "Skipping line 1596491: '\t' expected after '\"'\n",
      "Skipping line 1607666: '\t' expected after '\"'\n",
      "Skipping line 1608012: '\t' expected after '\"'\n",
      "Skipping line 1615048: '\t' expected after '\"'\n",
      "Skipping line 1618380: '\t' expected after '\"'\n",
      "Skipping line 1627134: '\t' expected after '\"'\n",
      "Skipping line 1627135: '\t' expected after '\"'\n",
      "Skipping line 1629074: '\t' expected after '\"'\n",
      "Skipping line 1648519: '\t' expected after '\"'\n",
      "Skipping line 1693608: '\t' expected after '\"'\n",
      "Skipping line 1700853: '\t' expected after '\"'\n",
      "Skipping line 1724518: '\t' expected after '\"'\n",
      "Skipping line 1724520: '\t' expected after '\"'\n",
      "Skipping line 1724544: '\t' expected after '\"'\n",
      "Skipping line 1794492: '\t' expected after '\"'\n",
      "Skipping line 1823413: '\t' expected after '\"'\n",
      "Skipping line 1846263: '\t' expected after '\"'\n",
      "Skipping line 1862190: '\t' expected after '\"'\n",
      "Skipping line 1869393: '\t' expected after '\"'\n",
      "Skipping line 1885476: '\t' expected after '\"'\n",
      "Skipping line 1887211: '\t' expected after '\"'\n",
      "Skipping line 1892146: '\t' expected after '\"'\n",
      "Skipping line 1965790: '\t' expected after '\"'\n",
      "Skipping line 2005412: '\t' expected after '\"'\n",
      "Skipping line 2011060: '\t' expected after '\"'\n",
      "Skipping line 2011061: '\t' expected after '\"'\n",
      "Skipping line 2011063: '\t' expected after '\"'\n",
      "Skipping line 2019554: '\t' expected after '\"'\n",
      "Skipping line 2063567: '\t' expected after '\"'\n",
      "Skipping line 2063595: '\t' expected after '\"'\n",
      "Skipping line 2104663: '\t' expected after '\"'\n",
      "Skipping line 2111052: '\t' expected after '\"'\n",
      "Skipping line 2144539: '\t' expected after '\"'\n",
      "Skipping line 2162193: '\t' expected after '\"'\n",
      "Skipping line 2182811: '\t' expected after '\"'\n",
      "Skipping line 2187496: '\t' expected after '\"'\n",
      "Skipping line 2204412: '\t' expected after '\"'\n",
      "Skipping line 2214259: '\t' expected after '\"'\n",
      "Skipping line 2226228: '\t' expected after '\"'\n",
      "Skipping line 2257894: '\t' expected after '\"'\n",
      "Skipping line 2275029: '\t' expected after '\"'\n",
      "Skipping line 2335906: '\t' expected after '\"'\n",
      "Skipping line 2335907: '\t' expected after '\"'\n",
      "Skipping line 2344798: '\t' expected after '\"'\n",
      "Skipping line 2344800: '\t' expected after '\"'\n",
      "Skipping line 2351467: '\t' expected after '\"'\n",
      "Skipping line 2356601: '\t' expected after '\"'\n",
      "Skipping line 2404436: '\t' expected after '\"'\n",
      "Skipping line 2419504: '\t' expected after '\"'\n",
      "Skipping line 2419518: '\t' expected after '\"'\n",
      "Skipping line 2419572: '\t' expected after '\"'\n",
      "Skipping line 2419695: '\t' expected after '\"'\n",
      "Skipping line 2419697: '\t' expected after '\"'\n",
      "Skipping line 2427564: '\t' expected after '\"'\n",
      "Skipping line 2434856: '\t' expected after '\"'\n",
      "Skipping line 2448515: '\t' expected after '\"'\n",
      "Skipping line 2458841: '\t' expected after '\"'\n",
      "Skipping line 2484133: '\t' expected after '\"'\n",
      "Skipping line 2485179: '\t' expected after '\"'\n",
      "Skipping line 2498771: '\t' expected after '\"'\n",
      "Skipping line 2518611: '\t' expected after '\"'\n",
      "Skipping line 2535678: '\t' expected after '\"'\n",
      "Skipping line 2553407: '\t' expected after '\"'\n",
      "Skipping line 2607925: '\t' expected after '\"'\n",
      "Skipping line 2617591: '\t' expected after '\"'\n",
      "Skipping line 2653442: '\t' expected after '\"'\n",
      "Skipping line 2655206: '\t' expected after '\"'\n",
      "Skipping line 2662616: '\t' expected after '\"'\n",
      "Skipping line 2693216: '\t' expected after '\"'\n",
      "Skipping line 2801121: '\t' expected after '\"'\n",
      "Skipping line 2816192: '\t' expected after '\"'\n",
      "Skipping line 2832872: '\t' expected after '\"'\n",
      "Skipping line 2833745: '\t' expected after '\"'\n",
      "Skipping line 2836482: '\t' expected after '\"'\n",
      "Skipping line 2861159: '\t' expected after '\"'\n",
      "Skipping line 2930882: '\t' expected after '\"'\n",
      "Skipping line 2939465: '\t' expected after '\"'\n",
      "Skipping line 2942558: '\t' expected after '\"'\n",
      "Skipping line 3000590: '\t' expected after '\"'\n",
      "Skipping line 3038563: '\t' expected after '\"'\n",
      "Skipping line 3038564: '\t' expected after '\"'\n",
      "Skipping line 3038565: '\t' expected after '\"'\n",
      "Skipping line 3040500: '\t' expected after '\"'\n",
      "Skipping line 3040861: '\t' expected after '\"'\n",
      "Skipping line 3046660: '\t' expected after '\"'\n",
      "Skipping line 3056704: '\t' expected after '\"'\n",
      "Skipping line 3056705: '\t' expected after '\"'\n",
      "Skipping line 3163848: '\t' expected after '\"'\n",
      "Skipping line 3170397: '\t' expected after '\"'\n",
      "Skipping line 3170641: '\t' expected after '\"'\n",
      "Skipping line 3237675: '\t' expected after '\"'\n",
      "Skipping line 3254501: '\t' expected after '\"'\n",
      "Skipping line 3264864: '\t' expected after '\"'\n",
      "Skipping line 3264865: '\t' expected after '\"'\n",
      "Skipping line 3272605: '\t' expected after '\"'\n",
      "Skipping line 3293511: '\t' expected after '\"'\n",
      "Skipping line 3300638: '\t' expected after '\"'\n",
      "Skipping line 3310488: '\t' expected after '\"'\n",
      "Skipping line 3393592: '\t' expected after '\"'\n",
      "Skipping line 3421732: '\t' expected after '\"'\n",
      "Skipping line 3490629: '\t' expected after '\"'\n",
      "Skipping line 3493243: '\t' expected after '\"'\n",
      "Skipping line 3494684: '\t' expected after '\"'\n",
      "Skipping line 3507569: '\t' expected after '\"'\n",
      "Skipping line 3529072: '\t' expected after '\"'\n",
      "Skipping line 3542680: '\t' expected after '\"'\n",
      "Skipping line 3542869: '\t' expected after '\"'\n",
      "Skipping line 3542870: '\t' expected after '\"'\n",
      "Skipping line 3543257: '\t' expected after '\"'\n",
      "Skipping line 3543282: '\t' expected after '\"'\n",
      "Skipping line 3543934: '\t' expected after '\"'\n",
      "Skipping line 3589026: '\t' expected after '\"'\n",
      "Skipping line 3636603: '\t' expected after '\"'\n",
      "Skipping line 3636604: '\t' expected after '\"'\n",
      "Skipping line 3708174: '\t' expected after '\"'\n",
      "Skipping line 3730913: '\t' expected after '\"'\n",
      "Skipping line 3759940: '\t' expected after '\"'\n",
      "Skipping line 3850585: '\t' expected after '\"'\n",
      "Skipping line 3910866: '\t' expected after '\"'\n",
      "Skipping line 3918094: '\t' expected after '\"'\n",
      "Skipping line 4034990: unexpected end of data\n"
     ]
    }
   ],
   "source": [
    "import pandas as pd\n",
    "sen=pd.read_csv('with_sentiment.csv')\n",
    "M=pd.read_csv('en.txt',error_bad_lines=False, sep='\\t', header=None,engine= 'python')\n",
    "M.columns=['M','title']"
   ]
  },
  {
   "cell_type": "code",
   "execution_count": 65,
   "metadata": {},
   "outputs": [],
   "source": [
    "import matplotlib.pyplot as plt"
   ]
  },
  {
   "cell_type": "code",
   "execution_count": 66,
   "metadata": {},
   "outputs": [],
   "source": [
    "articles_with_sen=sen.groupby('title')['sentiment_score'].sum().to_frame().reset_index()\n",
    "articles_with_sen.sort_values('sentiment_score').reset_index(drop=True)\n",
    "M_sen=M.merge(articles_with_sen,on='title')\n",
    "M_sen=M_sen[['title','M','sentiment_score']]"
   ]
  },
  {
   "cell_type": "code",
   "execution_count": 103,
   "metadata": {},
   "outputs": [
    {
     "data": {
      "text/html": [
       "<div>\n",
       "<style scoped>\n",
       "    .dataframe tbody tr th:only-of-type {\n",
       "        vertical-align: middle;\n",
       "    }\n",
       "\n",
       "    .dataframe tbody tr th {\n",
       "        vertical-align: top;\n",
       "    }\n",
       "\n",
       "    .dataframe thead th {\n",
       "        text-align: right;\n",
       "    }\n",
       "</style>\n",
       "<table border=\"1\" class=\"dataframe\">\n",
       "  <thead>\n",
       "    <tr style=\"text-align: right;\">\n",
       "      <th></th>\n",
       "      <th>M</th>\n",
       "      <th>sentiment_score</th>\n",
       "      <th>views</th>\n",
       "    </tr>\n",
       "  </thead>\n",
       "  <tbody>\n",
       "    <tr>\n",
       "      <th>M</th>\n",
       "      <td>1.000000</td>\n",
       "      <td>-0.036429</td>\n",
       "      <td>0.744235</td>\n",
       "    </tr>\n",
       "    <tr>\n",
       "      <th>sentiment_score</th>\n",
       "      <td>-0.036429</td>\n",
       "      <td>1.000000</td>\n",
       "      <td>-0.092589</td>\n",
       "    </tr>\n",
       "    <tr>\n",
       "      <th>views</th>\n",
       "      <td>0.744235</td>\n",
       "      <td>-0.092589</td>\n",
       "      <td>1.000000</td>\n",
       "    </tr>\n",
       "  </tbody>\n",
       "</table>\n",
       "</div>"
      ],
      "text/plain": [
       "                        M  sentiment_score     views\n",
       "M                1.000000        -0.036429  0.744235\n",
       "sentiment_score -0.036429         1.000000 -0.092589\n",
       "views            0.744235        -0.092589  1.000000"
      ]
     },
     "execution_count": 103,
     "metadata": {},
     "output_type": "execute_result"
    }
   ],
   "source": [
    "M_sen.loc[M_sen['M']!=0].corr()"
   ]
  },
  {
   "cell_type": "code",
   "execution_count": 25,
   "metadata": {},
   "outputs": [
    {
     "data": {
      "text/plain": [
       "Text(0, 0.5, 'Sentiment_score')"
      ]
     },
     "execution_count": 25,
     "metadata": {},
     "output_type": "execute_result"
    },
    {
     "data": {
      "image/png": "[encoded data removed]",
      "text/plain": [
       "<Figure size 432x288 with 1 Axes>"
      ]
     },
     "metadata": {
      "needs_background": "light"
     },
     "output_type": "display_data"
    }
   ],
   "source": [
    "plt.scatter(M_sen['M'],M_sen['sentiment_score'])\n",
    "plt.xlabel('M')\n",
    "plt.ylabel('Sentiment_score')\n",
    "# plt.savefig('M vs Sentiment')"
   ]
  },
  {
   "cell_type": "code",
   "execution_count": 50,
   "metadata": {},
   "outputs": [],
   "source": [
    "# M_sen.set_index('M',inplace=True)\n",
    "M_index=abs(M_sen['sentiment_score']).sort_values().index\n",
    "M_index=35*M_index/max(M_index)"
   ]
  },
  {
   "cell_type": "code",
   "execution_count": 57,
   "metadata": {},
   "outputs": [
    {
     "data": {
      "image/png": "[encoded data removed]",
      "text/plain": [
       "<Figure size 432x288 with 1 Axes>"
      ]
     },
     "metadata": {
      "needs_background": "light"
     },
     "output_type": "display_data"
    }
   ],
   "source": [
    "M_around_0=abs(M_sen['sentiment_score']).sort_values().values\n",
    "ax=plt.plot(M_around_0,label='sentiment_score')\n",
    "plt.vlines(x=210,ymin=-1,ymax=35,linestyles='dotted',label='larger_than_0_start_point')\n",
    "plt.plot(M_index,label='normalised M')\n",
    "plt.legend(loc=\"upper left\")\n",
    "plt.title('sorted sentiment score and normalised M')\n",
    "plt.savefig('sorted sentiment score and normalised M.png')"
   ]
  },
  {
   "cell_type": "markdown",
   "metadata": {},
   "source": [
    "### Pageview Counts"
   ]
  },
  {
   "cell_type": "code",
   "execution_count": 98,
   "metadata": {},
   "outputs": [
    {
     "data": {
      "text/html": [
       "<div>\n",
       "<style scoped>\n",
       "    .dataframe tbody tr th:only-of-type {\n",
       "        vertical-align: middle;\n",
       "    }\n",
       "\n",
       "    .dataframe tbody tr th {\n",
       "        vertical-align: top;\n",
       "    }\n",
       "\n",
       "    .dataframe thead th {\n",
       "        text-align: right;\n",
       "    }\n",
       "</style>\n",
       "<table border=\"1\" class=\"dataframe\">\n",
       "  <thead>\n",
       "    <tr style=\"text-align: right;\">\n",
       "      <th></th>\n",
       "      <th>title</th>\n",
       "      <th>sentiment_score</th>\n",
       "      <th>views</th>\n",
       "    </tr>\n",
       "    <tr>\n",
       "      <th>M</th>\n",
       "      <th></th>\n",
       "      <th></th>\n",
       "      <th></th>\n",
       "    </tr>\n",
       "  </thead>\n",
       "  <tbody>\n",
       "    <tr>\n",
       "      <th>337460.0</th>\n",
       "      <td>Paris</td>\n",
       "      <td>0.2960</td>\n",
       "      <td>16372598.0</td>\n",
       "    </tr>\n",
       "    <tr>\n",
       "      <th>27082.0</th>\n",
       "      <td>Cult_apologist</td>\n",
       "      <td>0.0000</td>\n",
       "      <td>4091.0</td>\n",
       "    </tr>\n",
       "    <tr>\n",
       "      <th>15120.0</th>\n",
       "      <td>Censorship</td>\n",
       "      <td>0.0000</td>\n",
       "      <td>2166785.0</td>\n",
       "    </tr>\n",
       "    <tr>\n",
       "      <th>10336.0</th>\n",
       "      <td>Eddie_Van_Halen</td>\n",
       "      <td>0.0000</td>\n",
       "      <td>10137977.0</td>\n",
       "    </tr>\n",
       "    <tr>\n",
       "      <th>1904.0</th>\n",
       "      <td>(What's_the_Story)_Morning_Glory?</td>\n",
       "      <td>0.0000</td>\n",
       "      <td>NaN</td>\n",
       "    </tr>\n",
       "    <tr>\n",
       "      <th>...</th>\n",
       "      <td>...</td>\n",
       "      <td>...</td>\n",
       "      <td>...</td>\n",
       "    </tr>\n",
       "    <tr>\n",
       "      <th>0.0</th>\n",
       "      <td>Abacha,_Sani</td>\n",
       "      <td>0.0000</td>\n",
       "      <td>1926.0</td>\n",
       "    </tr>\n",
       "    <tr>\n",
       "      <th>0.0</th>\n",
       "      <td>Aasen,_Ivar_Andreas</td>\n",
       "      <td>0.6900</td>\n",
       "      <td>838.0</td>\n",
       "    </tr>\n",
       "    <tr>\n",
       "      <th>0.0</th>\n",
       "      <td>Aalto,_Alvar_Henrik</td>\n",
       "      <td>0.0000</td>\n",
       "      <td>1339.0</td>\n",
       "    </tr>\n",
       "    <tr>\n",
       "      <th>0.0</th>\n",
       "      <td>1945_World_Series</td>\n",
       "      <td>0.6003</td>\n",
       "      <td>382599.0</td>\n",
       "    </tr>\n",
       "    <tr>\n",
       "      <th>0.0</th>\n",
       "      <td>1754_in_music</td>\n",
       "      <td>0.0000</td>\n",
       "      <td>8999.0</td>\n",
       "    </tr>\n",
       "  </tbody>\n",
       "</table>\n",
       "<p>389 rows × 3 columns</p>\n",
       "</div>"
      ],
      "text/plain": [
       "                                      title  sentiment_score       views\n",
       "M                                                                       \n",
       "337460.0                              Paris           0.2960  16372598.0\n",
       "27082.0                      Cult_apologist           0.0000      4091.0\n",
       "15120.0                          Censorship           0.0000   2166785.0\n",
       "10336.0                     Eddie_Van_Halen           0.0000  10137977.0\n",
       "1904.0    (What's_the_Story)_Morning_Glory?           0.0000         NaN\n",
       "...                                     ...              ...         ...\n",
       "0.0                            Abacha,_Sani           0.0000      1926.0\n",
       "0.0                     Aasen,_Ivar_Andreas           0.6900       838.0\n",
       "0.0                     Aalto,_Alvar_Henrik           0.0000      1339.0\n",
       "0.0                       1945_World_Series           0.6003    382599.0\n",
       "0.0                           1754_in_music           0.0000      8999.0\n",
       "\n",
       "[389 rows x 3 columns]"
      ]
     },
     "execution_count": 98,
     "metadata": {},
     "output_type": "execute_result"
    }
   ],
   "source": [
    "articles_with_sen=sen.groupby('title')['sentiment_score'].sum().to_frame().reset_index()\n",
    "articles_with_view=sen.groupby('title')['views'].mean().to_frame().reset_index()\n",
    "articles_with_both=articles_with_sen.merge(articles_with_view,on='title')\n",
    "M_sen_view=M.merge(articles_with_both,on='title')\n",
    "M_sen_view=M_sen_view[['title','M','sentiment_score','views']]\n",
    "M_sen_view.set_index('M')"
   ]
  },
  {
   "cell_type": "code",
   "execution_count": 82,
   "metadata": {},
   "outputs": [],
   "source": [
    "M_sen_view=M_sen_view.loc[M_sen_view['M']!=0]"
   ]
  },
  {
   "cell_type": "code",
   "execution_count": 87,
   "metadata": {},
   "outputs": [
    {
     "data": {
      "image/png": "[encoded data removed]",
      "text/plain": [
       "<Figure size 432x288 with 1 Axes>"
      ]
     },
     "metadata": {
      "needs_background": "light"
     },
     "output_type": "display_data"
    }
   ],
   "source": [
    "plt.scatter(y=abs(M_sen_view['views']),x=M_sen_view.index)\n",
    "plt.xlabel('M')\n",
    "plt.ylabel('View Counts')\n",
    "plt.title('M VS View')\n",
    "plt.savefig('M vs View.png')"
   ]
  },
  {
   "cell_type": "code",
   "execution_count": 96,
   "metadata": {},
   "outputs": [
    {
     "data": {
      "image/png": "[encoded data removed]",
      "text/plain": [
       "<Figure size 432x288 with 1 Axes>"
      ]
     },
     "metadata": {
      "needs_background": "light"
     },
     "output_type": "display_data"
    }
   ],
   "source": [
    "M_sen_view=M_sen_view.loc[M_sen_view['sentiment_score']!=0]\n",
    "y=M_sen_view.loc[M_sen_view['views']<5000000]['views']\n",
    "x=M_sen_view.loc[M_sen_view['views']<5000000]['sentiment_score']\n",
    "plt.scatter(y=abs(y),x=abs(x))\n",
    "plt.xlabel('sentiment_score')\n",
    "plt.ylabel('View Counts')\n",
    "plt.title('Sentiment VS View')\n",
    "plt.savefig('Sentiment vs View.png')"
   ]
  },
  {
   "cell_type": "code",
   "execution_count": 99,
   "metadata": {},
   "outputs": [],
   "source": []
  },
  {
   "cell_type": "code",
   "execution_count": null,
   "metadata": {},
   "outputs": [],
   "source": []
  }
 ],
 "metadata": {
  "kernelspec": {
   "display_name": "Python 3",
   "language": "python",
   "name": "python3"
  },
  "language_info": {
   "codemirror_mode": {
    "name": "ipython",
    "version": 3
   },
   "file_extension": ".py",
   "mimetype": "text/x-python",
   "name": "python",
   "nbconvert_exporter": "python",
   "pygments_lexer": "ipython3",
   "version": "3.7.6"
  }
 },
 "nbformat": 4,
 "nbformat_minor": 4
}
